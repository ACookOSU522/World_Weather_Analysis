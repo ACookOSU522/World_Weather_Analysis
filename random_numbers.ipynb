{
 "cells": [
  {
   "cell_type": "code",
   "execution_count": 9,
   "id": "3fd1a69b",
   "metadata": {},
   "outputs": [],
   "source": [
    "# Import the random module.\n",
    "import random"
   ]
  },
  {
   "cell_type": "code",
   "execution_count": 10,
   "id": "e48ee960",
   "metadata": {},
   "outputs": [
    {
     "ename": "SyntaxError",
     "evalue": "invalid syntax (2942775573.py, line 1)",
     "output_type": "error",
     "traceback": [
      "\u001b[1;36m  File \u001b[1;32m\"C:\\Users\\crlyg\\AppData\\Local\\Temp\\ipykernel_13704\\2942775573.py\"\u001b[1;36m, line \u001b[1;32m1\u001b[0m\n\u001b[1;33m    random.\u001b[0m\n\u001b[1;37m           ^\u001b[0m\n\u001b[1;31mSyntaxError\u001b[0m\u001b[1;31m:\u001b[0m invalid syntax\n"
     ]
    }
   ],
   "source": [
    "random."
   ]
  },
  {
   "cell_type": "code",
   "execution_count": 11,
   "id": "1a9729d9",
   "metadata": {},
   "outputs": [
    {
     "data": {
      "text/plain": [
       "-88"
      ]
     },
     "execution_count": 11,
     "metadata": {},
     "output_type": "execute_result"
    }
   ],
   "source": [
    "#random integer\n",
    "random.randint(-90, 90)"
   ]
  },
  {
   "cell_type": "code",
   "execution_count": 12,
   "id": "033286c2",
   "metadata": {},
   "outputs": [
    {
     "data": {
      "text/plain": [
       "0.026684279772856145"
      ]
     },
     "execution_count": 12,
     "metadata": {},
     "output_type": "execute_result"
    }
   ],
   "source": [
    "#random number between 0 and 1.0\n",
    "random.random()"
   ]
  },
  {
   "cell_type": "code",
   "execution_count": 13,
   "id": "bae6639f",
   "metadata": {},
   "outputs": [
    {
     "data": {
      "text/plain": [
       "-59.89587042465778"
      ]
     },
     "execution_count": 13,
     "metadata": {},
     "output_type": "execute_result"
    }
   ],
   "source": [
    "#combine int + rand 0 to 1.0 functions\n",
    "rand_num=random.randint(-90, 89)+random.random()\n",
    "rand_num"
   ]
  },
  {
   "cell_type": "code",
   "execution_count": 16,
   "id": "05c105f1",
   "metadata": {},
   "outputs": [
    {
     "data": {
      "text/plain": [
       "[-85.12267710229422,\n",
       " -19.662251756042703,\n",
       " -26.745967161937607,\n",
       " 54.442977135875715,\n",
       " -70.30394001149163,\n",
       " 50.86547059086594,\n",
       " 44.854116496476074,\n",
       " -54.469414603316345,\n",
       " 12.908979418729729,\n",
       " 80.15385804452549]"
      ]
     },
     "execution_count": 16,
     "metadata": {},
     "output_type": "execute_result"
    }
   ],
   "source": [
    "#random()function generate latitudes between -90 and 89\n",
    "x = 1\n",
    "latitudes = []\n",
    "while x < 11:\n",
    "    random_lat = random.randint(-90, 89) + random.random()\n",
    "    latitudes.append(random_lat)\n",
    "    x += 1\n",
    "latitudes"
   ]
  },
  {
   "cell_type": "code",
   "execution_count": 17,
   "id": "1650bb71",
   "metadata": {},
   "outputs": [
    {
     "data": {
      "text/plain": [
       "23"
      ]
     },
     "execution_count": 17,
     "metadata": {},
     "output_type": "execute_result"
    }
   ],
   "source": [
    "#random range\n",
    "random.randrange(-90, 90, step=1)"
   ]
  },
  {
   "cell_type": "code",
   "execution_count": 18,
   "id": "03158abd",
   "metadata": {},
   "outputs": [
    {
     "data": {
      "text/plain": [
       "18"
      ]
     },
     "execution_count": 18,
     "metadata": {},
     "output_type": "execute_result"
    }
   ],
   "source": [
    "random.randrange(-90, 90, step=3)"
   ]
  },
  {
   "cell_type": "code",
   "execution_count": 19,
   "id": "88e49367",
   "metadata": {},
   "outputs": [
    {
     "data": {
      "text/plain": [
       "11.19124468742514"
      ]
     },
     "execution_count": 19,
     "metadata": {},
     "output_type": "execute_result"
    }
   ],
   "source": [
    "#uniform function -->return floating decimal\n",
    "random.uniform(-90, 90)"
   ]
  },
  {
   "cell_type": "code",
   "execution_count": 21,
   "id": "59938ec9",
   "metadata": {},
   "outputs": [],
   "source": [
    "# Import the NumPy module.\n",
    "import numpy as np"
   ]
  },
  {
   "cell_type": "code",
   "execution_count": 22,
   "id": "cd52fea7",
   "metadata": {},
   "outputs": [
    {
     "data": {
      "text/plain": [
       "45.896121605752796"
      ]
     },
     "execution_count": 22,
     "metadata": {},
     "output_type": "execute_result"
    }
   ],
   "source": [
    "#floating decimal betwn -90.0 and 90.0\n",
    "np.random.uniform(-90.000, 90.000)"
   ]
  },
  {
   "cell_type": "code",
   "execution_count": 23,
   "id": "13ac8dfb",
   "metadata": {},
   "outputs": [
    {
     "data": {
      "text/plain": [
       "array([-79.28168907,  -7.49725015, -27.23967551, -30.1602818 ,\n",
       "        55.71472014, -80.74837749,  53.5075693 , -49.76733786,\n",
       "       -64.26485341,  63.48143033,  -6.55258826, -77.85061315,\n",
       "         4.71306438, -55.27981636, -44.00522747,  40.21895048,\n",
       "        46.30132132, -87.99081002,  -2.94374341, -48.30432235,\n",
       "       -30.28287712,  -0.97948258,  33.5334412 ,  51.9841555 ,\n",
       "       -12.94012854,  50.49251867, -53.341803  ,  79.50995656,\n",
       "       -82.30998931, -25.71998242,  45.74659273, -73.00450345,\n",
       "       -51.28491681, -35.08480605, -58.30619194,  83.33983327,\n",
       "        31.21347981,  63.25487851,  87.27399694,  72.18216307,\n",
       "       -83.98473183,  -4.19713132, -89.26497507, -80.26686934,\n",
       "        22.49988337, -20.63967432, -13.06258008, -53.6631824 ,\n",
       "       -45.72235304,  -8.74853335])"
      ]
     },
     "execution_count": 23,
     "metadata": {},
     "output_type": "execute_result"
    }
   ],
   "source": [
    "# array of 50 floating-point decimal numbers between -90.000 and 90.000\n",
    "np.random.uniform(-90.000, 90.000, size=50)"
   ]
  },
  {
   "cell_type": "code",
   "execution_count": 24,
   "id": "aa9f777e",
   "metadata": {},
   "outputs": [],
   "source": [
    "# Import timeit.\n",
    "import timeit"
   ]
  },
  {
   "cell_type": "code",
   "execution_count": 25,
   "id": "ea683e75",
   "metadata": {},
   "outputs": [
    {
     "name": "stdout",
     "output_type": "stream",
     "text": [
      "18.9 µs ± 1.37 µs per loop (mean ± std. dev. of 7 runs, 10000 loops each)\n"
     ]
    }
   ],
   "source": [
    "%timeit np.random.uniform(-90.000, 90.000, size=1500)"
   ]
  },
  {
   "cell_type": "code",
   "execution_count": 26,
   "id": "3b9ff0f4",
   "metadata": {},
   "outputs": [
    {
     "name": "stdout",
     "output_type": "stream",
     "text": [
      "3.21 ms ± 249 µs per loop (mean ± std. dev. of 7 runs, 100 loops each)\n"
     ]
    }
   ],
   "source": [
    "def latitudes(size):\n",
    "    latitudes = []\n",
    "    x = 0\n",
    "    while x < (size):\n",
    "        random_lat = random.randint(-90, 90) + random.random()\n",
    "        latitudes.append(random_lat)\n",
    "        x += 1\n",
    "    return latitudes\n",
    "# Call the function with 1500.\n",
    "%timeit latitudes(1500)"
   ]
  },
  {
   "cell_type": "code",
   "execution_count": null,
   "id": "05df5b19",
   "metadata": {},
   "outputs": [],
   "source": []
  }
 ],
 "metadata": {
  "kernelspec": {
   "display_name": "PythonData",
   "language": "python",
   "name": "pythondata"
  },
  "language_info": {
   "codemirror_mode": {
    "name": "ipython",
    "version": 3
   },
   "file_extension": ".py",
   "mimetype": "text/x-python",
   "name": "python",
   "nbconvert_exporter": "python",
   "pygments_lexer": "ipython3",
   "version": "3.7.13"
  }
 },
 "nbformat": 4,
 "nbformat_minor": 5
}
